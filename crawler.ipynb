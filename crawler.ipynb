{
 "cells": [
  {
   "cell_type": "markdown",
   "metadata": {},
   "source": [
    "# 爬取腾讯数据制作感染热力图"
   ]
  },
  {
   "cell_type": "markdown",
   "metadata": {},
   "source": [
    "## 0,环境准备"
   ]
  },
  {
   "cell_type": "markdown",
   "metadata": {},
   "source": [
    "1，anaconda默认安装所有需要的库，通过import来验证，或使用pip安装requests，json，pandas，jupyter notebook\n",
    "\n",
    "2，准备chrome或火狐浏览器"
   ]
  },
  {
   "cell_type": "code",
   "execution_count": 71,
   "metadata": {},
   "outputs": [
    {
     "data": {
      "text/plain": [
       "('2.21.0', '2.0.9', '0.23.4')"
      ]
     },
     "execution_count": 71,
     "metadata": {},
     "output_type": "execute_result"
    }
   ],
   "source": [
    "import requests\n",
    "import json\n",
    "import pandas as pd\n",
    "requests.__version__, json.__version__, pd.__version__"
   ]
  },
  {
   "cell_type": "markdown",
   "metadata": {},
   "source": [
    "## 1、分析数据源"
   ]
  },
  {
   "cell_type": "markdown",
   "metadata": {},
   "source": [
    "1，通过浏览器打开数据源：https://news.qq.com/zt2020/page/feiyan.htm?from=timeline&isappinstalled=0\n",
    "\n",
    "2，打开开发者选项，分析network流；\n",
    "\n",
    "3，简述动态网页和静态网页的区别；"
   ]
  },
  {
   "cell_type": "markdown",
   "metadata": {},
   "source": [
    "## 2、抓取数据"
   ]
  },
  {
   "cell_type": "markdown",
   "metadata": {},
   "source": [
    "1，找到数据流，用python获取，查看内容；\n",
    "\n",
    "2，用json加载数据，用可视化工具分析http://www.bejson.com/jsonviewernew/"
   ]
  },
  {
   "cell_type": "code",
   "execution_count": null,
   "metadata": {},
   "outputs": [],
   "source": [
    "url = 'https://view.inews.qq.com/g2/getOnsInfo?name=disease_h5&callback=jQuery34105042688433769531_1581048970987&_=1581048970988'\n",
    "reponse = requests.get(url=url)\n",
    "data = reponse.text.split('jQuery34105042688433769531_1581048970987')[1][1:-1]\n",
    "data = json.loads(data)\n",
    "data"
   ]
  },
  {
   "cell_type": "code",
   "execution_count": null,
   "metadata": {},
   "outputs": [],
   "source": [
    "data = json.loads(data['data'])\n",
    "data"
   ]
  },
  {
   "cell_type": "markdown",
   "metadata": {},
   "source": [
    "3，用json可视化工具，查看数据"
   ]
  },
  {
   "cell_type": "markdown",
   "metadata": {},
   "source": [
    "4，封装函数：利用数据源得出的链接，获取到原始数据，然后用json处理成python字典并返回"
   ]
  },
  {
   "cell_type": "code",
   "execution_count": 74,
   "metadata": {},
   "outputs": [],
   "source": [
    "def catch_data():\n",
    "    url = 'https://view.inews.qq.com/g2/getOnsInfo?name=disease_h5&callback=jQuery34105042688433769531_1581048970987&_=1581048970988'\n",
    "    reponse = requests.get(url=url)\n",
    "    data = reponse.text.split('jQuery34105042688433769531_1581048970987')[1][1:-1]\n",
    "    data = json.loads(data)\n",
    "    if data['ret'] == 0:\n",
    "        return json.loads(data['data'])"
   ]
  },
  {
   "cell_type": "markdown",
   "metadata": {},
   "source": [
    "5，利用函数获取到到数据，看一下国内感染数据及今日新增感染情况"
   ]
  },
  {
   "cell_type": "code",
   "execution_count": 75,
   "metadata": {},
   "outputs": [
    {
     "data": {
      "text/plain": [
       "{'confirm': 37251, 'suspect': 28942, 'dead': 812, 'heal': 2685}"
      ]
     },
     "execution_count": 75,
     "metadata": {},
     "output_type": "execute_result"
    }
   ],
   "source": [
    "data = catch_data()\n",
    "lastUpdateTime = data['lastUpdateTime']\n",
    "chinaTotal = data['chinaTotal']\n",
    "chinaAdd = data['chinaAdd']\n",
    "chinaTotal"
   ]
  },
  {
   "cell_type": "code",
   "execution_count": 76,
   "metadata": {},
   "outputs": [
    {
     "data": {
      "text/plain": [
       "{'confirm': 2653, 'suspect': 1285, 'dead': 89, 'heal': 633}"
      ]
     },
     "execution_count": 76,
     "metadata": {},
     "output_type": "execute_result"
    }
   ],
   "source": [
    "chinaAdd"
   ]
  },
  {
   "cell_type": "markdown",
   "metadata": {},
   "source": [
    "## 3、利用pandas清洗国内感染数据并保存到csv"
   ]
  },
  {
   "cell_type": "code",
   "execution_count": 77,
   "metadata": {},
   "outputs": [],
   "source": [
    "# 定义数据处理函数，给定一个str，用eval变成字典，取其中元素并返回\n",
    "def confirm(x):\n",
    "    confirm = eval(str(x))['confirm']\n",
    "    return confirm\n",
    "def suspect(x):\n",
    "    suspect = eval(str(x))['suspect']\n",
    "    return suspect\n",
    "def dead(x):\n",
    "    dead = eval(str(x))['dead']\n",
    "    return dead\n",
    "def heal(x):\n",
    "    heal =  eval(str(x))['heal']\n",
    "    return heal"
   ]
  },
  {
   "cell_type": "markdown",
   "metadata": {},
   "source": [
    "Pandas中文网：https://www.pypandas.cn/"
   ]
  },
  {
   "cell_type": "code",
   "execution_count": 78,
   "metadata": {},
   "outputs": [],
   "source": [
    "#细致筛选数据，生成list\n",
    "def extract_china(china_data):\n",
    "    china_list = []\n",
    "    for a in range(len(china_data)):\n",
    "        province = china_data[a]['name']\n",
    "        province_list = china_data[a]['children']\n",
    "        for b in range(len(province_list)):\n",
    "            city = province_list[b]['name']\n",
    "            total = province_list[b]['total']\n",
    "            today = province_list[b]['today']\n",
    "            china_dict = {}\n",
    "            china_dict['province'] = province\n",
    "            china_dict['city'] = city\n",
    "            china_dict['total'] = total\n",
    "            china_dict['today'] = today\n",
    "            china_list.append(china_dict)\n",
    "\n",
    "    china_data = pd.DataFrame(china_list)\n",
    "    # 函数映射\n",
    "    china_data['confirm'] = china_data['total'].map(confirm)\n",
    "    china_data['suspect'] = china_data['total'].map(suspect)\n",
    "    china_data['dead'] = china_data['total'].map(dead)\n",
    "    china_data['heal'] = china_data['total'].map(heal)\n",
    "    china_data['addconfirm'] = china_data['today'].map(confirm)\n",
    "    china_data['addsuspect'] = china_data['today'].map(suspect)\n",
    "    china_data['adddead'] = china_data['today'].map(dead)\n",
    "    china_data['addheal'] = china_data['today'].map(heal)\n",
    "    china_data = china_data[[\"province\",\"city\",\"confirm\",\"suspect\",\"dead\",\"heal\",\"addconfirm\",\"addsuspect\",\"adddead\",\"addheal\"]]\n",
    "    return china_data"
   ]
  },
  {
   "cell_type": "markdown",
   "metadata": {},
   "source": [
    "利用上面的函数，原始数据中‘areaTree’中的‘children’清洗出来"
   ]
  },
  {
   "cell_type": "code",
   "execution_count": 79,
   "metadata": {},
   "outputs": [
    {
     "data": {
      "text/html": [
       "<div>\n",
       "<style scoped>\n",
       "    .dataframe tbody tr th:only-of-type {\n",
       "        vertical-align: middle;\n",
       "    }\n",
       "\n",
       "    .dataframe tbody tr th {\n",
       "        vertical-align: top;\n",
       "    }\n",
       "\n",
       "    .dataframe thead th {\n",
       "        text-align: right;\n",
       "    }\n",
       "</style>\n",
       "<table border=\"1\" class=\"dataframe\">\n",
       "  <thead>\n",
       "    <tr style=\"text-align: right;\">\n",
       "      <th></th>\n",
       "      <th>province</th>\n",
       "      <th>city</th>\n",
       "      <th>confirm</th>\n",
       "      <th>suspect</th>\n",
       "      <th>dead</th>\n",
       "      <th>heal</th>\n",
       "      <th>addconfirm</th>\n",
       "      <th>addsuspect</th>\n",
       "      <th>adddead</th>\n",
       "      <th>addheal</th>\n",
       "    </tr>\n",
       "  </thead>\n",
       "  <tbody>\n",
       "    <tr>\n",
       "      <th>0</th>\n",
       "      <td>湖北</td>\n",
       "      <td>武汉</td>\n",
       "      <td>14982</td>\n",
       "      <td>0</td>\n",
       "      <td>608</td>\n",
       "      <td>877</td>\n",
       "      <td>1379</td>\n",
       "      <td>0</td>\n",
       "      <td>0</td>\n",
       "      <td>0</td>\n",
       "    </tr>\n",
       "    <tr>\n",
       "      <th>1</th>\n",
       "      <td>湖北</td>\n",
       "      <td>孝感</td>\n",
       "      <td>2436</td>\n",
       "      <td>0</td>\n",
       "      <td>29</td>\n",
       "      <td>45</td>\n",
       "      <td>123</td>\n",
       "      <td>0</td>\n",
       "      <td>0</td>\n",
       "      <td>0</td>\n",
       "    </tr>\n",
       "    <tr>\n",
       "      <th>2</th>\n",
       "      <td>湖北</td>\n",
       "      <td>黄冈</td>\n",
       "      <td>2141</td>\n",
       "      <td>0</td>\n",
       "      <td>43</td>\n",
       "      <td>135</td>\n",
       "      <td>100</td>\n",
       "      <td>0</td>\n",
       "      <td>0</td>\n",
       "      <td>0</td>\n",
       "    </tr>\n",
       "    <tr>\n",
       "      <th>3</th>\n",
       "      <td>湖北</td>\n",
       "      <td>荆州</td>\n",
       "      <td>997</td>\n",
       "      <td>0</td>\n",
       "      <td>13</td>\n",
       "      <td>33</td>\n",
       "      <td>56</td>\n",
       "      <td>0</td>\n",
       "      <td>0</td>\n",
       "      <td>0</td>\n",
       "    </tr>\n",
       "    <tr>\n",
       "      <th>4</th>\n",
       "      <td>湖北</td>\n",
       "      <td>襄阳</td>\n",
       "      <td>988</td>\n",
       "      <td>0</td>\n",
       "      <td>7</td>\n",
       "      <td>40</td>\n",
       "      <td>81</td>\n",
       "      <td>0</td>\n",
       "      <td>0</td>\n",
       "      <td>0</td>\n",
       "    </tr>\n",
       "  </tbody>\n",
       "</table>\n",
       "</div>"
      ],
      "text/plain": [
       "  province city  confirm  suspect  dead  heal  addconfirm  addsuspect  \\\n",
       "0       湖北   武汉    14982        0   608   877        1379           0   \n",
       "1       湖北   孝感     2436        0    29    45         123           0   \n",
       "2       湖北   黄冈     2141        0    43   135         100           0   \n",
       "3       湖北   荆州      997        0    13    33          56           0   \n",
       "4       湖北   襄阳      988        0     7    40          81           0   \n",
       "\n",
       "   adddead  addheal  \n",
       "0        0        0  \n",
       "1        0        0  \n",
       "2        0        0  \n",
       "3        0        0  \n",
       "4        0        0  "
      ]
     },
     "execution_count": 79,
     "metadata": {},
     "output_type": "execute_result"
    }
   ],
   "source": [
    "areaTree = data['areaTree']\n",
    "china_data = areaTree[0]['children']#0-中国\n",
    "china_data = extract_china(china_data)\n",
    "china_data.head()"
   ]
  },
  {
   "cell_type": "markdown",
   "metadata": {},
   "source": [
    "把清洗出的数据，存成csv。"
   ]
  },
  {
   "cell_type": "code",
   "execution_count": 80,
   "metadata": {},
   "outputs": [],
   "source": [
    "china_data.to_csv('china_data.csv')"
   ]
  },
  {
   "cell_type": "markdown",
   "metadata": {},
   "source": [
    "## 4*、数据可视化"
   ]
  },
  {
   "cell_type": "markdown",
   "metadata": {},
   "source": [
    "再进一步，把国内数据按照省和感染人数重新组合，为进一步可视化作准备"
   ]
  },
  {
   "cell_type": "code",
   "execution_count": 81,
   "metadata": {},
   "outputs": [
    {
     "data": {
      "text/html": [
       "<div>\n",
       "<style scoped>\n",
       "    .dataframe tbody tr th:only-of-type {\n",
       "        vertical-align: middle;\n",
       "    }\n",
       "\n",
       "    .dataframe tbody tr th {\n",
       "        vertical-align: top;\n",
       "    }\n",
       "\n",
       "    .dataframe thead th {\n",
       "        text-align: right;\n",
       "    }\n",
       "</style>\n",
       "<table border=\"1\" class=\"dataframe\">\n",
       "  <thead>\n",
       "    <tr style=\"text-align: right;\">\n",
       "      <th></th>\n",
       "      <th>province</th>\n",
       "      <th>confirm</th>\n",
       "    </tr>\n",
       "  </thead>\n",
       "  <tbody>\n",
       "    <tr>\n",
       "      <th>0</th>\n",
       "      <td>上海</td>\n",
       "      <td>292</td>\n",
       "    </tr>\n",
       "    <tr>\n",
       "      <th>1</th>\n",
       "      <td>云南</td>\n",
       "      <td>140</td>\n",
       "    </tr>\n",
       "    <tr>\n",
       "      <th>2</th>\n",
       "      <td>内蒙古</td>\n",
       "      <td>54</td>\n",
       "    </tr>\n",
       "    <tr>\n",
       "      <th>3</th>\n",
       "      <td>北京</td>\n",
       "      <td>315</td>\n",
       "    </tr>\n",
       "    <tr>\n",
       "      <th>4</th>\n",
       "      <td>台湾</td>\n",
       "      <td>17</td>\n",
       "    </tr>\n",
       "  </tbody>\n",
       "</table>\n",
       "</div>"
      ],
      "text/plain": [
       "  province  confirm\n",
       "0       上海      292\n",
       "1       云南      140\n",
       "2      内蒙古       54\n",
       "3       北京      315\n",
       "4       台湾       17"
      ]
     },
     "execution_count": 81,
     "metadata": {},
     "output_type": "execute_result"
    }
   ],
   "source": [
    "#数据处理\n",
    "area_data = china_data.groupby(\"province\")[\"confirm\"].sum().reset_index()\n",
    "area_data.columns = [\"province\",\"confirm\"]\n",
    "area_data.head()"
   ]
  },
  {
   "cell_type": "markdown",
   "metadata": {},
   "source": [
    "使用area_data绘图"
   ]
  },
  {
   "cell_type": "code",
   "execution_count": 82,
   "metadata": {},
   "outputs": [
    {
     "data": {
      "text/html": [
       "\n",
       "<script>\n",
       "    require.config({\n",
       "        paths: {\n",
       "            'echarts':'https://assets.pyecharts.org/assets/echarts.min', 'china':'https://assets.pyecharts.org/assets/maps/china', 'westeros':'https://assets.pyecharts.org/assets/themes/westeros'\n",
       "        }\n",
       "    });\n",
       "</script>\n",
       "\n",
       "        <div id=\"254b8d43750d4fd2a493b97ab79e2f58\" style=\"width:900px; height:500px;\"></div>\n",
       "\n",
       "<script>\n",
       "        require(['echarts', 'china', 'westeros'], function(echarts) {\n",
       "                var chart_254b8d43750d4fd2a493b97ab79e2f58 = echarts.init(\n",
       "                    document.getElementById('254b8d43750d4fd2a493b97ab79e2f58'), 'westeros', {renderer: 'canvas'});\n",
       "                var option_254b8d43750d4fd2a493b97ab79e2f58 = {\n",
       "    \"animation\": true,\n",
       "    \"animationThreshold\": 2000,\n",
       "    \"animationDuration\": 1000,\n",
       "    \"animationEasing\": \"cubicOut\",\n",
       "    \"animationDelay\": 0,\n",
       "    \"animationDurationUpdate\": 300,\n",
       "    \"animationEasingUpdate\": \"cubicOut\",\n",
       "    \"animationDelayUpdate\": 0,\n",
       "    \"series\": [\n",
       "        {\n",
       "            \"type\": \"map\",\n",
       "            \"label\": {\n",
       "                \"show\": true,\n",
       "                \"position\": \"top\",\n",
       "                \"margin\": 8\n",
       "            },\n",
       "            \"mapType\": \"china\",\n",
       "            \"data\": [\n",
       "                {\n",
       "                    \"name\": \"\\u4e0a\\u6d77\",\n",
       "                    \"value\": 292\n",
       "                },\n",
       "                {\n",
       "                    \"name\": \"\\u4e91\\u5357\",\n",
       "                    \"value\": 140\n",
       "                },\n",
       "                {\n",
       "                    \"name\": \"\\u5185\\u8499\\u53e4\",\n",
       "                    \"value\": 54\n",
       "                },\n",
       "                {\n",
       "                    \"name\": \"\\u5317\\u4eac\",\n",
       "                    \"value\": 315\n",
       "                },\n",
       "                {\n",
       "                    \"name\": \"\\u53f0\\u6e7e\",\n",
       "                    \"value\": 17\n",
       "                },\n",
       "                {\n",
       "                    \"name\": \"\\u5409\\u6797\",\n",
       "                    \"value\": 78\n",
       "                },\n",
       "                {\n",
       "                    \"name\": \"\\u56db\\u5ddd\",\n",
       "                    \"value\": 386\n",
       "                },\n",
       "                {\n",
       "                    \"name\": \"\\u5929\\u6d25\",\n",
       "                    \"value\": 90\n",
       "                },\n",
       "                {\n",
       "                    \"name\": \"\\u5b81\\u590f\",\n",
       "                    \"value\": 45\n",
       "                },\n",
       "                {\n",
       "                    \"name\": \"\\u5b89\\u5fbd\",\n",
       "                    \"value\": 779\n",
       "                },\n",
       "                {\n",
       "                    \"name\": \"\\u5c71\\u4e1c\",\n",
       "                    \"value\": 435\n",
       "                },\n",
       "                {\n",
       "                    \"name\": \"\\u5c71\\u897f\",\n",
       "                    \"value\": 115\n",
       "                },\n",
       "                {\n",
       "                    \"name\": \"\\u5e7f\\u4e1c\",\n",
       "                    \"value\": 1120\n",
       "                },\n",
       "                {\n",
       "                    \"name\": \"\\u5e7f\\u897f\",\n",
       "                    \"value\": 195\n",
       "                },\n",
       "                {\n",
       "                    \"name\": \"\\u65b0\\u7586\",\n",
       "                    \"value\": 45\n",
       "                },\n",
       "                {\n",
       "                    \"name\": \"\\u6c5f\\u82cf\",\n",
       "                    \"value\": 468\n",
       "                },\n",
       "                {\n",
       "                    \"name\": \"\\u6c5f\\u897f\",\n",
       "                    \"value\": 740\n",
       "                },\n",
       "                {\n",
       "                    \"name\": \"\\u6cb3\\u5317\",\n",
       "                    \"value\": 206\n",
       "                },\n",
       "                {\n",
       "                    \"name\": \"\\u6cb3\\u5357\",\n",
       "                    \"value\": 1033\n",
       "                },\n",
       "                {\n",
       "                    \"name\": \"\\u6d59\\u6c5f\",\n",
       "                    \"value\": 1075\n",
       "                },\n",
       "                {\n",
       "                    \"name\": \"\\u6d77\\u5357\",\n",
       "                    \"value\": 128\n",
       "                },\n",
       "                {\n",
       "                    \"name\": \"\\u6e56\\u5317\",\n",
       "                    \"value\": 27100\n",
       "                },\n",
       "                {\n",
       "                    \"name\": \"\\u6e56\\u5357\",\n",
       "                    \"value\": 838\n",
       "                },\n",
       "                {\n",
       "                    \"name\": \"\\u6fb3\\u95e8\",\n",
       "                    \"value\": 10\n",
       "                },\n",
       "                {\n",
       "                    \"name\": \"\\u7518\\u8083\",\n",
       "                    \"value\": 79\n",
       "                },\n",
       "                {\n",
       "                    \"name\": \"\\u798f\\u5efa\",\n",
       "                    \"value\": 250\n",
       "                },\n",
       "                {\n",
       "                    \"name\": \"\\u897f\\u85cf\",\n",
       "                    \"value\": 1\n",
       "                },\n",
       "                {\n",
       "                    \"name\": \"\\u8d35\\u5dde\",\n",
       "                    \"value\": 96\n",
       "                },\n",
       "                {\n",
       "                    \"name\": \"\\u8fbd\\u5b81\",\n",
       "                    \"value\": 105\n",
       "                },\n",
       "                {\n",
       "                    \"name\": \"\\u91cd\\u5e86\",\n",
       "                    \"value\": 446\n",
       "                },\n",
       "                {\n",
       "                    \"name\": \"\\u9655\\u897f\",\n",
       "                    \"value\": 208\n",
       "                },\n",
       "                {\n",
       "                    \"name\": \"\\u9752\\u6d77\",\n",
       "                    \"value\": 18\n",
       "                },\n",
       "                {\n",
       "                    \"name\": \"\\u9999\\u6e2f\",\n",
       "                    \"value\": 26\n",
       "                },\n",
       "                {\n",
       "                    \"name\": \"\\u9ed1\\u9f99\\u6c5f\",\n",
       "                    \"value\": 307\n",
       "                }\n",
       "            ],\n",
       "            \"roam\": true,\n",
       "            \"zoom\": 1,\n",
       "            \"showLegendSymbol\": false,\n",
       "            \"emphasis\": {}\n",
       "        }\n",
       "    ],\n",
       "    \"legend\": [\n",
       "        {\n",
       "            \"data\": [\n",
       "                \"\"\n",
       "            ],\n",
       "            \"selected\": {\n",
       "                \"\": true\n",
       "            },\n",
       "            \"show\": true,\n",
       "            \"padding\": 5,\n",
       "            \"itemGap\": 10,\n",
       "            \"itemWidth\": 25,\n",
       "            \"itemHeight\": 14\n",
       "        }\n",
       "    ],\n",
       "    \"tooltip\": {\n",
       "        \"show\": true,\n",
       "        \"trigger\": \"item\",\n",
       "        \"triggerOn\": \"mousemove|click\",\n",
       "        \"axisPointer\": {\n",
       "            \"type\": \"line\"\n",
       "        },\n",
       "        \"textStyle\": {\n",
       "            \"fontSize\": 14\n",
       "        },\n",
       "        \"borderWidth\": 0\n",
       "    },\n",
       "    \"title\": [\n",
       "        {\n",
       "            \"text\": \"2019_nCoV\\u4e2d\\u56fd\\u75ab\\u60c5\\u5730\\u56fe\",\n",
       "            \"padding\": 5,\n",
       "            \"itemGap\": 10\n",
       "        }\n",
       "    ],\n",
       "    \"visualMap\": {\n",
       "        \"show\": true,\n",
       "        \"type\": \"piecewise\",\n",
       "        \"min\": 0,\n",
       "        \"max\": 100,\n",
       "        \"inRange\": {\n",
       "            \"color\": [\n",
       "                \"#50a3ba\",\n",
       "                \"#eac763\",\n",
       "                \"#d94e5d\"\n",
       "            ]\n",
       "        },\n",
       "        \"calculable\": true,\n",
       "        \"inverse\": false,\n",
       "        \"splitNumber\": 5,\n",
       "        \"orient\": \"vertical\",\n",
       "        \"showLabel\": true,\n",
       "        \"itemWidth\": 20,\n",
       "        \"itemHeight\": 14,\n",
       "        \"borderWidth\": 0,\n",
       "        \"pieces\": [\n",
       "            {\n",
       "                \"min\": 1001,\n",
       "                \"label\": \">1000\",\n",
       "                \"color\": \"#893448\"\n",
       "            },\n",
       "            {\n",
       "                \"min\": 500,\n",
       "                \"max\": 1000,\n",
       "                \"label\": \"500-1000\",\n",
       "                \"color\": \"#ff585e\"\n",
       "            },\n",
       "            {\n",
       "                \"min\": 101,\n",
       "                \"max\": 499,\n",
       "                \"label\": \"101-499\",\n",
       "                \"color\": \"#fb8146\"\n",
       "            },\n",
       "            {\n",
       "                \"min\": 10,\n",
       "                \"max\": 100,\n",
       "                \"label\": \"10-100\",\n",
       "                \"color\": \"#ffb248\"\n",
       "            },\n",
       "            {\n",
       "                \"min\": 0,\n",
       "                \"max\": 9,\n",
       "                \"label\": \"0-9\",\n",
       "                \"color\": \"#fff2d1\"\n",
       "            }\n",
       "        ]\n",
       "    }\n",
       "};\n",
       "                chart_254b8d43750d4fd2a493b97ab79e2f58.setOption(option_254b8d43750d4fd2a493b97ab79e2f58);\n",
       "        });\n",
       "    </script>\n"
      ],
      "text/plain": [
       "<pyecharts.render.display.HTML at 0x11c52f048>"
      ]
     },
     "execution_count": 82,
     "metadata": {},
     "output_type": "execute_result"
    }
   ],
   "source": [
    "from pyecharts.charts import *\n",
    "from pyecharts import options as opts\n",
    "from pyecharts.globals import ThemeType\n",
    "\n",
    "area_map = Map(init_opts=opts.InitOpts(theme=ThemeType.WESTEROS))\n",
    "area_map.add(\"\",[list(z) for z in zip(list(area_data[\"province\"]), list(area_data[\"confirm\"]))], \"china\",is_map_symbol_show=False)\n",
    "area_map.set_global_opts(title_opts=opts.TitleOpts(title=\"2019_nCoV中国疫情地图\"),visualmap_opts=opts.VisualMapOpts(is_piecewise=True,\n",
    "                pieces = [\n",
    "                        {\"min\": 1001 , \"label\": '>1000',\"color\": \"#893448\"}, #不指定 max，表示 max 为无限大\n",
    "                        {\"min\": 500, \"max\": 1000, \"label\": '500-1000',\"color\": \"#ff585e\"},\n",
    "                        {\"min\": 101, \"max\": 499, \"label\": '101-499',\"color\": \"#fb8146\"},\n",
    "                        {\"min\": 10, \"max\": 100, \"label\": '10-100',\"color\": \"#ffb248\"},\n",
    "                        {\"min\": 0, \"max\": 9, \"label\": '0-9',\"color\" : \"#fff2d1\" }]))\n",
    "area_map.render_notebook()"
   ]
  }
 ],
 "metadata": {
  "kernelspec": {
   "display_name": "Python 3",
   "language": "python",
   "name": "python3"
  },
  "language_info": {
   "codemirror_mode": {
    "name": "ipython",
    "version": 3
   },
   "file_extension": ".py",
   "mimetype": "text/x-python",
   "name": "python",
   "nbconvert_exporter": "python",
   "pygments_lexer": "ipython3",
   "version": "3.7.1"
  }
 },
 "nbformat": 4,
 "nbformat_minor": 2
}
