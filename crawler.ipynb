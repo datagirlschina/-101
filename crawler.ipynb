{
 "cells": [
  {
   "cell_type": "markdown",
   "metadata": {},
   "source": [
    "# 爬取腾讯2019_nCoV中国疫情数据"
   ]
  },
  {
   "cell_type": "markdown",
   "metadata": {},
   "source": [
    "## 0,环境准备"
   ]
  },
  {
   "cell_type": "markdown",
   "metadata": {},
   "source": [
    "1，anaconda默认安装所有需要的库，通过import来验证，或使用pip安装requests，json，pandas，jupyter notebook\n",
    "\n",
    "2，准备chrome或火狐浏览器"
   ]
  },
  {
   "cell_type": "code",
   "execution_count": 86,
   "metadata": {},
   "outputs": [
    {
     "data": {
      "text/plain": [
       "('2.21.0', '2.0.9', '0.23.4')"
      ]
     },
     "execution_count": 86,
     "metadata": {},
     "output_type": "execute_result"
    }
   ],
   "source": [
    "import requests\n",
    "import json\n",
    "import pandas as pd\n",
    "requests.__version__, json.__version__, pd.__version__"
   ]
  },
  {
   "cell_type": "markdown",
   "metadata": {},
   "source": [
    "## 1、分析数据源"
   ]
  },
  {
   "cell_type": "markdown",
   "metadata": {},
   "source": [
    "1，通过浏览器打开数据源：https://news.qq.com/zt2020/page/feiyan.htm?from=timeline&isappinstalled=0\n",
    "\n",
    "2，打开开发者选项，分析network流；\n",
    "\n",
    "3，简述动态网页和静态网页的区别；"
   ]
  },
  {
   "cell_type": "markdown",
   "metadata": {},
   "source": [
    "## 2、抓取数据"
   ]
  },
  {
   "cell_type": "markdown",
   "metadata": {},
   "source": [
    "1，找到数据流，用python获取，查看内容；\n",
    "\n",
    "2，用json加载数据，用可视化工具分析http://www.bejson.com/jsonviewernew/"
   ]
  },
  {
   "cell_type": "code",
   "execution_count": null,
   "metadata": {},
   "outputs": [],
   "source": [
    "url = 'https://view.inews.qq.com/g2/getOnsInfo?name=disease_h5&callback=jQuery34105042688433769531_1581048970987&_=1581048970988'\n",
    "reponse = requests.get(url=url)\n",
    "data = reponse.text.split('jQuery34105042688433769531_1581048970987')[1][1:-1]\n",
    "data = json.loads(data)\n",
    "data"
   ]
  },
  {
   "cell_type": "code",
   "execution_count": null,
   "metadata": {},
   "outputs": [],
   "source": [
    "data = json.loads(data['data'])\n",
    "data"
   ]
  },
  {
   "cell_type": "markdown",
   "metadata": {},
   "source": [
    "3，用json可视化工具，查看数据"
   ]
  },
  {
   "cell_type": "markdown",
   "metadata": {},
   "source": [
    "4，封装函数：利用数据源得出的链接，获取到原始数据，然后用json处理成python字典并返回"
   ]
  },
  {
   "cell_type": "code",
   "execution_count": 89,
   "metadata": {},
   "outputs": [],
   "source": [
    "def catch_data():\n",
    "    url = 'https://view.inews.qq.com/g2/getOnsInfo?name=disease_h5&callback=jQuery34105042688433769531_1581048970987&_=1581048970988'\n",
    "    reponse = requests.get(url=url)\n",
    "    data = reponse.text.split('jQuery34105042688433769531_1581048970987')[1][1:-1]\n",
    "    data = json.loads(data)\n",
    "    if data['ret'] == 0:\n",
    "        return json.loads(data['data'])"
   ]
  },
  {
   "cell_type": "markdown",
   "metadata": {},
   "source": [
    "5，利用函数获取到到数据，看一下国内感染数据及今日新增感染情况"
   ]
  },
  {
   "cell_type": "code",
   "execution_count": 90,
   "metadata": {},
   "outputs": [
    {
     "data": {
      "text/plain": [
       "{'confirm': 37252, 'suspect': 28942, 'dead': 813, 'heal': 2747}"
      ]
     },
     "execution_count": 90,
     "metadata": {},
     "output_type": "execute_result"
    }
   ],
   "source": [
    "data = catch_data()\n",
    "lastUpdateTime = data['lastUpdateTime']\n",
    "chinaTotal = data['chinaTotal']\n",
    "chinaAdd = data['chinaAdd']\n",
    "chinaTotal"
   ]
  },
  {
   "cell_type": "code",
   "execution_count": 91,
   "metadata": {},
   "outputs": [
    {
     "data": {
      "text/plain": [
       "{'confirm': 2654, 'suspect': 1285, 'dead': 90, 'heal': 695}"
      ]
     },
     "execution_count": 91,
     "metadata": {},
     "output_type": "execute_result"
    }
   ],
   "source": [
    "chinaAdd"
   ]
  },
  {
   "cell_type": "markdown",
   "metadata": {},
   "source": [
    "## 3、利用pandas清洗国内感染数据并保存到csv"
   ]
  },
  {
   "cell_type": "code",
   "execution_count": 92,
   "metadata": {},
   "outputs": [],
   "source": [
    "# 定义数据处理函数，给定一个str，用eval变成字典，取其中元素并返回\n",
    "def confirm(x):\n",
    "    confirm = eval(str(x))['confirm']\n",
    "    return confirm\n",
    "def suspect(x):\n",
    "    suspect = eval(str(x))['suspect']\n",
    "    return suspect\n",
    "def dead(x):\n",
    "    dead = eval(str(x))['dead']\n",
    "    return dead\n",
    "def heal(x):\n",
    "    heal =  eval(str(x))['heal']\n",
    "    return heal"
   ]
  },
  {
   "cell_type": "markdown",
   "metadata": {},
   "source": [
    "Pandas中文网：https://www.pypandas.cn/"
   ]
  },
  {
   "cell_type": "code",
   "execution_count": 97,
   "metadata": {},
   "outputs": [],
   "source": [
    "#细致筛选数据，生成list\n",
    "def extract_china(china_data):\n",
    "    china_list = []\n",
    "    for a in range(len(china_data)):\n",
    "        province = china_data[a]['name']\n",
    "        province_list = china_data[a]['children']\n",
    "        for b in range(len(province_list)):\n",
    "            city = province_list[b]['name']\n",
    "            total = province_list[b]['total']\n",
    "            today = province_list[b]['today']\n",
    "            china_dict = {}\n",
    "            china_dict['province'] = province\n",
    "            china_dict['city'] = city\n",
    "            china_dict['total'] = total\n",
    "            china_dict['today'] = today\n",
    "            china_list.append(china_dict)\n",
    "\n",
    "    china_data = pd.DataFrame(china_list)\n",
    "    # 函数映射\n",
    "    china_data['confirm'] = china_data['total'].map(confirm)\n",
    "#     china_data['suspect'] = china_data['total'].map(suspect)\n",
    "    china_data['dead'] = china_data['total'].map(dead)\n",
    "    china_data['heal'] = china_data['total'].map(heal)\n",
    "    china_data['addconfirm'] = china_data['today'].map(confirm)\n",
    "#     china_data['addsuspect'] = china_data['today'].map(suspect)\n",
    "    china_data['adddead'] = china_data['today'].map(dead)\n",
    "    china_data['addheal'] = china_data['today'].map(heal)\n",
    "    china_data = china_data[[\"province\",\"city\",\"confirm\",\"dead\",\"heal\",\"addconfirm\"]]\n",
    "    return china_data"
   ]
  },
  {
   "cell_type": "markdown",
   "metadata": {},
   "source": [
    "利用上面的函数，原始数据中‘areaTree’中的‘children’清洗出来"
   ]
  },
  {
   "cell_type": "code",
   "execution_count": 98,
   "metadata": {},
   "outputs": [
    {
     "data": {
      "text/html": [
       "<div>\n",
       "<style scoped>\n",
       "    .dataframe tbody tr th:only-of-type {\n",
       "        vertical-align: middle;\n",
       "    }\n",
       "\n",
       "    .dataframe tbody tr th {\n",
       "        vertical-align: top;\n",
       "    }\n",
       "\n",
       "    .dataframe thead th {\n",
       "        text-align: right;\n",
       "    }\n",
       "</style>\n",
       "<table border=\"1\" class=\"dataframe\">\n",
       "  <thead>\n",
       "    <tr style=\"text-align: right;\">\n",
       "      <th></th>\n",
       "      <th>province</th>\n",
       "      <th>city</th>\n",
       "      <th>confirm</th>\n",
       "      <th>dead</th>\n",
       "      <th>heal</th>\n",
       "      <th>addconfirm</th>\n",
       "    </tr>\n",
       "  </thead>\n",
       "  <tbody>\n",
       "    <tr>\n",
       "      <th>0</th>\n",
       "      <td>湖北</td>\n",
       "      <td>武汉</td>\n",
       "      <td>14982</td>\n",
       "      <td>608</td>\n",
       "      <td>877</td>\n",
       "      <td>1379</td>\n",
       "    </tr>\n",
       "    <tr>\n",
       "      <th>1</th>\n",
       "      <td>湖北</td>\n",
       "      <td>孝感</td>\n",
       "      <td>2436</td>\n",
       "      <td>29</td>\n",
       "      <td>45</td>\n",
       "      <td>123</td>\n",
       "    </tr>\n",
       "    <tr>\n",
       "      <th>2</th>\n",
       "      <td>湖北</td>\n",
       "      <td>黄冈</td>\n",
       "      <td>2141</td>\n",
       "      <td>43</td>\n",
       "      <td>135</td>\n",
       "      <td>100</td>\n",
       "    </tr>\n",
       "    <tr>\n",
       "      <th>3</th>\n",
       "      <td>湖北</td>\n",
       "      <td>荆州</td>\n",
       "      <td>997</td>\n",
       "      <td>13</td>\n",
       "      <td>40</td>\n",
       "      <td>56</td>\n",
       "    </tr>\n",
       "    <tr>\n",
       "      <th>4</th>\n",
       "      <td>湖北</td>\n",
       "      <td>襄阳</td>\n",
       "      <td>988</td>\n",
       "      <td>7</td>\n",
       "      <td>40</td>\n",
       "      <td>81</td>\n",
       "    </tr>\n",
       "  </tbody>\n",
       "</table>\n",
       "</div>"
      ],
      "text/plain": [
       "  province city  confirm  dead  heal  addconfirm\n",
       "0       湖北   武汉    14982   608   877        1379\n",
       "1       湖北   孝感     2436    29    45         123\n",
       "2       湖北   黄冈     2141    43   135         100\n",
       "3       湖北   荆州      997    13    40          56\n",
       "4       湖北   襄阳      988     7    40          81"
      ]
     },
     "execution_count": 98,
     "metadata": {},
     "output_type": "execute_result"
    }
   ],
   "source": [
    "areaTree = data['areaTree']\n",
    "china_data = areaTree[0]['children']#0-中国\n",
    "china_data = extract_china(china_data)\n",
    "china_data.head()"
   ]
  },
  {
   "cell_type": "markdown",
   "metadata": {},
   "source": [
    "把清洗出的数据，存成csv。"
   ]
  },
  {
   "cell_type": "code",
   "execution_count": 103,
   "metadata": {},
   "outputs": [],
   "source": [
    "china_data.to_csv('china_data.csv')"
   ]
  },
  {
   "cell_type": "markdown",
   "metadata": {},
   "source": [
    "全国按天计数数据"
   ]
  },
  {
   "cell_type": "code",
   "execution_count": 102,
   "metadata": {},
   "outputs": [
    {
     "data": {
      "text/html": [
       "<div>\n",
       "<style scoped>\n",
       "    .dataframe tbody tr th:only-of-type {\n",
       "        vertical-align: middle;\n",
       "    }\n",
       "\n",
       "    .dataframe tbody tr th {\n",
       "        vertical-align: top;\n",
       "    }\n",
       "\n",
       "    .dataframe thead th {\n",
       "        text-align: right;\n",
       "    }\n",
       "</style>\n",
       "<table border=\"1\" class=\"dataframe\">\n",
       "  <thead>\n",
       "    <tr style=\"text-align: right;\">\n",
       "      <th></th>\n",
       "      <th>date</th>\n",
       "      <th>confirm</th>\n",
       "      <th>suspect</th>\n",
       "      <th>dead</th>\n",
       "      <th>heal</th>\n",
       "    </tr>\n",
       "  </thead>\n",
       "  <tbody>\n",
       "    <tr>\n",
       "      <th>0</th>\n",
       "      <td>01.13</td>\n",
       "      <td>41</td>\n",
       "      <td>0</td>\n",
       "      <td>1</td>\n",
       "      <td>0</td>\n",
       "    </tr>\n",
       "    <tr>\n",
       "      <th>1</th>\n",
       "      <td>01.14</td>\n",
       "      <td>41</td>\n",
       "      <td>0</td>\n",
       "      <td>1</td>\n",
       "      <td>0</td>\n",
       "    </tr>\n",
       "    <tr>\n",
       "      <th>2</th>\n",
       "      <td>01.15</td>\n",
       "      <td>41</td>\n",
       "      <td>0</td>\n",
       "      <td>2</td>\n",
       "      <td>5</td>\n",
       "    </tr>\n",
       "    <tr>\n",
       "      <th>3</th>\n",
       "      <td>01.16</td>\n",
       "      <td>45</td>\n",
       "      <td>0</td>\n",
       "      <td>2</td>\n",
       "      <td>8</td>\n",
       "    </tr>\n",
       "    <tr>\n",
       "      <th>4</th>\n",
       "      <td>01.17</td>\n",
       "      <td>62</td>\n",
       "      <td>0</td>\n",
       "      <td>2</td>\n",
       "      <td>12</td>\n",
       "    </tr>\n",
       "    <tr>\n",
       "      <th>5</th>\n",
       "      <td>01.18</td>\n",
       "      <td>198</td>\n",
       "      <td>0</td>\n",
       "      <td>3</td>\n",
       "      <td>17</td>\n",
       "    </tr>\n",
       "    <tr>\n",
       "      <th>6</th>\n",
       "      <td>01.19</td>\n",
       "      <td>275</td>\n",
       "      <td>0</td>\n",
       "      <td>4</td>\n",
       "      <td>18</td>\n",
       "    </tr>\n",
       "    <tr>\n",
       "      <th>7</th>\n",
       "      <td>01.20</td>\n",
       "      <td>291</td>\n",
       "      <td>54</td>\n",
       "      <td>6</td>\n",
       "      <td>25</td>\n",
       "    </tr>\n",
       "    <tr>\n",
       "      <th>8</th>\n",
       "      <td>01.21</td>\n",
       "      <td>440</td>\n",
       "      <td>37</td>\n",
       "      <td>9</td>\n",
       "      <td>25</td>\n",
       "    </tr>\n",
       "    <tr>\n",
       "      <th>9</th>\n",
       "      <td>01.22</td>\n",
       "      <td>571</td>\n",
       "      <td>393</td>\n",
       "      <td>17</td>\n",
       "      <td>25</td>\n",
       "    </tr>\n",
       "    <tr>\n",
       "      <th>10</th>\n",
       "      <td>01.23</td>\n",
       "      <td>830</td>\n",
       "      <td>1072</td>\n",
       "      <td>25</td>\n",
       "      <td>34</td>\n",
       "    </tr>\n",
       "    <tr>\n",
       "      <th>11</th>\n",
       "      <td>01.24</td>\n",
       "      <td>1287</td>\n",
       "      <td>1965</td>\n",
       "      <td>41</td>\n",
       "      <td>38</td>\n",
       "    </tr>\n",
       "    <tr>\n",
       "      <th>12</th>\n",
       "      <td>01.25</td>\n",
       "      <td>1975</td>\n",
       "      <td>2684</td>\n",
       "      <td>56</td>\n",
       "      <td>49</td>\n",
       "    </tr>\n",
       "    <tr>\n",
       "      <th>13</th>\n",
       "      <td>01.26</td>\n",
       "      <td>2744</td>\n",
       "      <td>5794</td>\n",
       "      <td>80</td>\n",
       "      <td>51</td>\n",
       "    </tr>\n",
       "    <tr>\n",
       "      <th>14</th>\n",
       "      <td>01.27</td>\n",
       "      <td>4515</td>\n",
       "      <td>6973</td>\n",
       "      <td>106</td>\n",
       "      <td>60</td>\n",
       "    </tr>\n",
       "    <tr>\n",
       "      <th>15</th>\n",
       "      <td>01.28</td>\n",
       "      <td>5974</td>\n",
       "      <td>9239</td>\n",
       "      <td>132</td>\n",
       "      <td>103</td>\n",
       "    </tr>\n",
       "    <tr>\n",
       "      <th>16</th>\n",
       "      <td>01.29</td>\n",
       "      <td>7711</td>\n",
       "      <td>12167</td>\n",
       "      <td>170</td>\n",
       "      <td>124</td>\n",
       "    </tr>\n",
       "    <tr>\n",
       "      <th>17</th>\n",
       "      <td>01.30</td>\n",
       "      <td>9692</td>\n",
       "      <td>15238</td>\n",
       "      <td>213</td>\n",
       "      <td>171</td>\n",
       "    </tr>\n",
       "    <tr>\n",
       "      <th>18</th>\n",
       "      <td>01.31</td>\n",
       "      <td>11791</td>\n",
       "      <td>17988</td>\n",
       "      <td>259</td>\n",
       "      <td>243</td>\n",
       "    </tr>\n",
       "    <tr>\n",
       "      <th>19</th>\n",
       "      <td>02.01</td>\n",
       "      <td>14380</td>\n",
       "      <td>19544</td>\n",
       "      <td>304</td>\n",
       "      <td>328</td>\n",
       "    </tr>\n",
       "    <tr>\n",
       "      <th>20</th>\n",
       "      <td>02.02</td>\n",
       "      <td>17236</td>\n",
       "      <td>21558</td>\n",
       "      <td>361</td>\n",
       "      <td>475</td>\n",
       "    </tr>\n",
       "    <tr>\n",
       "      <th>21</th>\n",
       "      <td>02.03</td>\n",
       "      <td>20471</td>\n",
       "      <td>23214</td>\n",
       "      <td>425</td>\n",
       "      <td>632</td>\n",
       "    </tr>\n",
       "    <tr>\n",
       "      <th>22</th>\n",
       "      <td>02.04</td>\n",
       "      <td>24363</td>\n",
       "      <td>23260</td>\n",
       "      <td>491</td>\n",
       "      <td>892</td>\n",
       "    </tr>\n",
       "    <tr>\n",
       "      <th>23</th>\n",
       "      <td>02.05</td>\n",
       "      <td>28060</td>\n",
       "      <td>24702</td>\n",
       "      <td>564</td>\n",
       "      <td>1153</td>\n",
       "    </tr>\n",
       "    <tr>\n",
       "      <th>24</th>\n",
       "      <td>02.06</td>\n",
       "      <td>31211</td>\n",
       "      <td>26359</td>\n",
       "      <td>637</td>\n",
       "      <td>1542</td>\n",
       "    </tr>\n",
       "    <tr>\n",
       "      <th>25</th>\n",
       "      <td>02.07</td>\n",
       "      <td>34598</td>\n",
       "      <td>27657</td>\n",
       "      <td>723</td>\n",
       "      <td>2052</td>\n",
       "    </tr>\n",
       "    <tr>\n",
       "      <th>26</th>\n",
       "      <td>02.08</td>\n",
       "      <td>37251</td>\n",
       "      <td>28942</td>\n",
       "      <td>812</td>\n",
       "      <td>2651</td>\n",
       "    </tr>\n",
       "  </tbody>\n",
       "</table>\n",
       "</div>"
      ],
      "text/plain": [
       "     date  confirm  suspect  dead  heal\n",
       "0   01.13       41        0     1     0\n",
       "1   01.14       41        0     1     0\n",
       "2   01.15       41        0     2     5\n",
       "3   01.16       45        0     2     8\n",
       "4   01.17       62        0     2    12\n",
       "5   01.18      198        0     3    17\n",
       "6   01.19      275        0     4    18\n",
       "7   01.20      291       54     6    25\n",
       "8   01.21      440       37     9    25\n",
       "9   01.22      571      393    17    25\n",
       "10  01.23      830     1072    25    34\n",
       "11  01.24     1287     1965    41    38\n",
       "12  01.25     1975     2684    56    49\n",
       "13  01.26     2744     5794    80    51\n",
       "14  01.27     4515     6973   106    60\n",
       "15  01.28     5974     9239   132   103\n",
       "16  01.29     7711    12167   170   124\n",
       "17  01.30     9692    15238   213   171\n",
       "18  01.31    11791    17988   259   243\n",
       "19  02.01    14380    19544   304   328\n",
       "20  02.02    17236    21558   361   475\n",
       "21  02.03    20471    23214   425   632\n",
       "22  02.04    24363    23260   491   892\n",
       "23  02.05    28060    24702   564  1153\n",
       "24  02.06    31211    26359   637  1542\n",
       "25  02.07    34598    27657   723  2052\n",
       "26  02.08    37251    28942   812  2651"
      ]
     },
     "execution_count": 102,
     "metadata": {},
     "output_type": "execute_result"
    }
   ],
   "source": [
    "chinaDayList = pd.DataFrame(data['chinaDayList'])\n",
    "chinaDayList = chinaDayList[['date','confirm','suspect','dead','heal']]\n",
    "chinaDayList.to_csv('china_daily_data.csv')\n",
    "chinaDayList"
   ]
  },
  {
   "cell_type": "markdown",
   "metadata": {},
   "source": [
    "## 4*、数据可视化"
   ]
  }
 ],
 "metadata": {
  "kernelspec": {
   "display_name": "Python 3",
   "language": "python",
   "name": "python3"
  },
  "language_info": {
   "codemirror_mode": {
    "name": "ipython",
    "version": 3
   },
   "file_extension": ".py",
   "mimetype": "text/x-python",
   "name": "python",
   "nbconvert_exporter": "python",
   "pygments_lexer": "ipython3",
   "version": "3.7.1"
  }
 },
 "nbformat": 4,
 "nbformat_minor": 2
}
